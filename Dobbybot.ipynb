{
 "cells": [
  {
   "cell_type": "markdown",
   "metadata": {},
   "source": [
    "**Import packages**"
   ]
  },
  {
   "cell_type": "code",
   "execution_count": 6,
   "metadata": {},
   "outputs": [],
   "source": [
    "import openai\n",
    "from openai import OpenAI\n",
    "\n",
    "from rich.console import Console\n",
    "from rich.markdown import Markdown\n",
    "import gradio as gr\n",
    "\n",
    "import json\n",
    "import tempfile"
   ]
  },
  {
   "cell_type": "markdown",
   "metadata": {},
   "source": [
    "**Define OpenAI API Key and Client**"
   ]
  },
  {
   "cell_type": "code",
   "execution_count": null,
   "metadata": {},
   "outputs": [],
   "source": [
    "with open('path/OpenAI_API_Key.txt', 'r') as file:\n",
    "    api_key = file.read()\n",
    "openai.api_key = api_key\n",
    "\n",
    "client = OpenAI(api_key=api_key)"
   ]
  },
  {
   "cell_type": "markdown",
   "metadata": {},
   "source": [
    "**Define system prompt for Bot character**"
   ]
  },
  {
   "cell_type": "code",
   "execution_count": 8,
   "metadata": {},
   "outputs": [],
   "source": [
    "def load_dobby_personality():\n",
    "    with open('Dobby_personality.txt', 'r', encoding='utf-8') as file:\n",
    "        short_system_prompt = file.read()\n",
    "    return short_system_prompt"
   ]
  },
  {
   "cell_type": "markdown",
   "metadata": {},
   "source": [
    "**Create function to chat with Bot**"
   ]
  },
  {
   "cell_type": "code",
   "execution_count": 9,
   "metadata": {},
   "outputs": [],
   "source": [
    "messages = [\n",
    "    {\"role\": \"system\", \"content\": load_dobby_personality()},\n",
    "]\n",
    "\n",
    "\n",
    "def message_with_chatbot(user_input: str, messages: list[dict] = messages) -> str:\n",
    "  \"\"\"Get a response fom a chatbot using OpenAI models.\n",
    "\n",
    "  Parameters\n",
    "  ----------\n",
    "  user_input : str\n",
    "    Message to send to the chatbot.\n",
    "  messages : list[dict]\n",
    "    Conversation history. Tipically contains at least the system message.\n",
    "\n",
    "  Returns\n",
    "  -------\n",
    "  str\n",
    "    The response of the chatbot to the user question.\n",
    "  \"\"\"\n",
    "  if isinstance(user_input, dict):\n",
    "    user_input = user_input.get(\"text\")\n",
    "\n",
    "  messages.append({\"role\": \"user\", \"content\": user_input})\n",
    "\n",
    "  response = client.chat.completions.create(\n",
    "      model=\"gpt-4o-mini\",\n",
    "      messages=messages,\n",
    "      temperature=0.8,\n",
    "      max_tokens=256\n",
    "  )\n",
    "  response_content = response.choices[0].message.content\n",
    "  messages.append({\"role\": \"assistant\", \"content\": response_content})\n",
    "  return response_content\n",
    "\n",
    "def message_with_dobby(user_input: str):\n",
    "  short_system_prompt = load_dobby_personality()\n",
    "  messages = messages = [\n",
    "    {\"role\": \"system\", \"content\": short_system_prompt}\n",
    "  ]\n",
    "  return message_with_chatbot(user_input, messages)"
   ]
  },
  {
   "cell_type": "markdown",
   "metadata": {},
   "source": [
    "**Create utility function to save data to json file**"
   ]
  },
  {
   "cell_type": "code",
   "execution_count": 10,
   "metadata": {},
   "outputs": [],
   "source": [
    "def save_json(filepath: str, data: list or dict) -> str:\n",
    "    \"\"\"Save data to json file.\n",
    "\n",
    "    Parameters\n",
    "    ----------\n",
    "    filepath : str\n",
    "      Output filepath.\n",
    "    data : list | dict\n",
    "      Data to save to file.\n",
    "\n",
    "    Returns\n",
    "    -------\n",
    "    str\n",
    "      The confirmation message.\n",
    "    \"\"\"\n",
    "    with open(file=filepath, mode=\"w\", encoding=\"utf-8\") as fp:\n",
    "        json.dump(obj=data, fp=fp, ensure_ascii=False, indent=4)\n",
    "    return f\"The file {filepath} has been correctly saved\""
   ]
  },
  {
   "cell_type": "code",
   "execution_count": 11,
   "metadata": {},
   "outputs": [],
   "source": [
    "messages = [\n",
    "  {\"role\": \"system\", \"content\": load_dobby_personality()},\n",
    "]\n",
    "\n",
    "console = Console()\n",
    "\n",
    "while True:\n",
    "  user_input = input(\"Tu: \").strip()\n",
    "  if user_input.lower() == \"q\":\n",
    "    save_json(filepath=\"dobbybot_chat.json\", data=messages)\n",
    "    break\n",
    "  dobbybot_response = message_with_dobby(user_input)\n",
    "  md = Markdown(dobbybot_response)\n",
    "  console.print(md)"
   ]
  },
  {
   "cell_type": "markdown",
   "metadata": {},
   "source": [
    "**Create the chatbot with the Gradio interface**"
   ]
  },
  {
   "cell_type": "code",
   "execution_count": null,
   "metadata": {},
   "outputs": [],
   "source": [
    "def save_history(messages: list[list]) -> None:\n",
    "  \"\"\"Save chatbot conversation history using Gradio interface.\n",
    "\n",
    "  Parameters\n",
    "  ----------\n",
    "  messages : list[list]\n",
    "    List of messages saved internally by Gradio.\n",
    "\n",
    "  Returns\n",
    "  -------\n",
    "  None\n",
    "    The conversation history in json format.\n",
    "  \"\"\"\n",
    "  data = list(map(lambda x: {x[0]: x[1]}, messages))\n",
    "  save_json(filepath=\"messages.json\", data=data)\n",
    "\n",
    "\n",
    "def interface(user_input: str, messages: list) -> str:\n",
    "  \"\"\"Define chatbot interface for Gradio.\n",
    "\n",
    "  Parameters\n",
    "  ----------\n",
    "  user_input : str\n",
    "    Message to send to the chatbot.\n",
    "  messages : list[dict]\n",
    "    Conversation history. Tipically contains at least the system message.\n",
    "\n",
    "  Returns\n",
    "  -------\n",
    "  str\n",
    "    The response of the chatbot to the user question.\n",
    "  \"\"\"\n",
    "  chatbot_messages = []\n",
    "  for message in messages:\n",
    "    if isinstance(message, str):\n",
    "      chatbot_messages.append(message)\n",
    "    else:\n",
    "      chatbot_messages.append({\"role\": \"user\", \"content\": message[0]})\n",
    "      chatbot_messages.append({\"role\": \"assistant\", \"content\": message[1]})\n",
    "  response = message_with_dobby(user_input)\n",
    "  messages.append((user_input, response))\n",
    "  save_history(messages)\n",
    "  return response\n",
    "\n",
    "messages = [\n",
    "    {\"role\": \"system\", \"content\": load_dobby_personality()},\n",
    "]\n",
    "\n",
    "demo = gr.ChatInterface(\n",
    "  fn=interface,\n",
    "  chatbot=gr.Chatbot(height=300),\n",
    "  textbox=gr.Textbox(placeholder=\"Ask me something, sir!\", container=False, scale=7),\n",
    "  title=\"DobbyBot\",\n",
    "  theme=\"default\",\n",
    "  examples=[\"Who is your best friend?\", \"Who are you?\", \"What kind of abilities do you have?\", \"What makes you happy?\"],\n",
    "  retry_btn=None,\n",
    "  undo_btn=\"Delete Previous\",\n",
    "  clear_btn=\"Clear\"\n",
    "  )\n",
    "\n",
    "demo.launch(debug=True)"
   ]
  }
 ],
 "metadata": {
  "kernelspec": {
   "display_name": "Python 3",
   "language": "python",
   "name": "python3"
  },
  "language_info": {
   "codemirror_mode": {
    "name": "ipython",
    "version": 3
   },
   "file_extension": ".py",
   "mimetype": "text/x-python",
   "name": "python",
   "nbconvert_exporter": "python",
   "pygments_lexer": "ipython3",
   "version": "3.9.7"
  }
 },
 "nbformat": 4,
 "nbformat_minor": 2
}
